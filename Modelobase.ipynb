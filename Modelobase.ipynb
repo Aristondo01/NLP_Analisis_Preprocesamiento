{
 "cells": [
  {
   "cell_type": "code",
   "execution_count": 45,
   "metadata": {},
   "outputs": [],
   "source": [
    "import pandas as pd\n",
    "import nltk\n",
    "import string\n",
    "import spacy\n",
    "import sklearn\n",
    "from nltk.corpus import stopwords\n",
    "from textblob import TextBlob\n",
    "import shap\n",
    "from sklearn.model_selection import train_test_split\n",
    "from sklearn.feature_extraction.text import TfidfVectorizer\n",
    "from sklearn.metrics import accuracy_score\n",
    "from sklearn.ensemble import RandomForestClassifier \n",
    "from sklearn.model_selection import train_test_split\n",
    "from sklearn.preprocessing import LabelEncoder\n",
    "import numpy as np\n",
    "from sklearn.metrics import classification_report"
   ]
  },
  {
   "cell_type": "code",
   "execution_count": 46,
   "metadata": {},
   "outputs": [
    {
     "name": "stderr",
     "output_type": "stream",
     "text": [
      "[nltk_data] Downloading package stopwords to\n",
      "[nltk_data]     C:\\Users\\pablo\\AppData\\Roaming\\nltk_data...\n",
      "[nltk_data]   Package stopwords is already up-to-date!\n",
      "[nltk_data] Downloading package punkt to\n",
      "[nltk_data]     C:\\Users\\pablo\\AppData\\Roaming\\nltk_data...\n",
      "[nltk_data]   Package punkt is already up-to-date!\n"
     ]
    }
   ],
   "source": [
    "\n",
    "\n",
    "# Descargar recursos necesarios\n",
    "nltk.download('stopwords')\n",
    "nltk.download('punkt')\n",
    "nlp = spacy.load('en_core_web_sm')\n",
    "stop_words = set(stopwords.words('english'))\n",
    "\n",
    "# Cargar dataset\n",
    "# Aquí asumiré que tu dataset está en un archivo CSV llamado 'comments_dataset.csv' y que la columna de comentarios se llama 'comment'\n",
    "df_original = pd.read_csv('train.csv')\n",
    "df_original = df_original.drop(columns=['textID', 'text', 'Time of Tweet','Age of User','Country','Population -2020','Land Area (Km)','Density (P/Km)'])\n",
    "df_original = df_original[df_original['selected_text'].apply(lambda x: isinstance(x, str))]\n",
    "\n",
    "#Sample del 50% de los datos\n",
    "df_original = df_original.sample(frac=0.05, random_state=1)\n",
    "\n",
    "df_base = df_original.copy()\n"
   ]
  },
  {
   "cell_type": "code",
   "execution_count": 47,
   "metadata": {},
   "outputs": [
    {
     "data": {
      "text/html": [
       "<div>\n",
       "<style scoped>\n",
       "    .dataframe tbody tr th:only-of-type {\n",
       "        vertical-align: middle;\n",
       "    }\n",
       "\n",
       "    .dataframe tbody tr th {\n",
       "        vertical-align: top;\n",
       "    }\n",
       "\n",
       "    .dataframe thead th {\n",
       "        text-align: right;\n",
       "    }\n",
       "</style>\n",
       "<table border=\"1\" class=\"dataframe\">\n",
       "  <thead>\n",
       "    <tr style=\"text-align: right;\">\n",
       "      <th></th>\n",
       "      <th>selected_text</th>\n",
       "      <th>sentiment</th>\n",
       "    </tr>\n",
       "  </thead>\n",
       "  <tbody>\n",
       "    <tr>\n",
       "      <th>1638</th>\n",
       "      <td>smH daTs whacK</td>\n",
       "      <td>neutral</td>\n",
       "    </tr>\n",
       "    <tr>\n",
       "      <th>14748</th>\n",
       "      <td>oh dear, thats not good - I hope you get throu...</td>\n",
       "      <td>neutral</td>\n",
       "    </tr>\n",
       "    <tr>\n",
       "      <th>5456</th>\n",
       "      <td>stuvk with the wee stpid thing fo</td>\n",
       "      <td>negative</td>\n",
       "    </tr>\n",
       "    <tr>\n",
       "      <th>19241</th>\n",
       "      <td>uni email is helpful..</td>\n",
       "      <td>positive</td>\n",
       "    </tr>\n",
       "    <tr>\n",
       "      <th>4067</th>\n",
       "      <td>, Just read an article that buying IP`s doesn`...</td>\n",
       "      <td>neutral</td>\n",
       "    </tr>\n",
       "  </tbody>\n",
       "</table>\n",
       "</div>"
      ],
      "text/plain": [
       "                                           selected_text sentiment\n",
       "1638                                      smH daTs whacK   neutral\n",
       "14748  oh dear, thats not good - I hope you get throu...   neutral\n",
       "5456                   stuvk with the wee stpid thing fo  negative\n",
       "19241                             uni email is helpful..  positive\n",
       "4067   , Just read an article that buying IP`s doesn`...   neutral"
      ]
     },
     "execution_count": 47,
     "metadata": {},
     "output_type": "execute_result"
    }
   ],
   "source": [
    "df_base.head()"
   ]
  },
  {
   "cell_type": "code",
   "execution_count": 48,
   "metadata": {},
   "outputs": [],
   "source": [
    "df_base = df_base[df_base['sentiment'] != 'neutral']"
   ]
  },
  {
   "cell_type": "code",
   "execution_count": 49,
   "metadata": {},
   "outputs": [],
   "source": [
    "def preprocess_text(text):\n",
    "    # 0. Eliminación de números\n",
    "    #text = re.sub(r'\\b\\d+(\\.\\d+)?\\b', '', text)\n",
    "    \n",
    "    # 1. Conversión a minúsculas\n",
    "    text = text.lower()\n",
    "    \n",
    "    # 2. Eliminación de puntuación\n",
    "    text = text.translate(str.maketrans('', '', string.punctuation))\n",
    "    \n",
    "    # 3. Eliminación de stop words\n",
    "    text = ' '.join([word for word in text.split() if word not in stop_words])\n",
    "    \n",
    "    # 4. Lematización\n",
    "    doc = nlp(text)\n",
    "    text = ' '.join([token.lemma_ for token in doc])\n",
    "    \n",
    "    # 5. Corrección ortográfica\n",
    "    text = str(TextBlob(text).correct())\n",
    "    \n",
    "    return text\n",
    "\n",
    "# Aplicar preprocesamiento\n",
    "df_base['processed_text'] = df_base['selected_text'].apply(preprocess_text)\n"
   ]
  },
  {
   "cell_type": "code",
   "execution_count": 50,
   "metadata": {},
   "outputs": [
    {
     "data": {
      "text/html": [
       "<div>\n",
       "<style scoped>\n",
       "    .dataframe tbody tr th:only-of-type {\n",
       "        vertical-align: middle;\n",
       "    }\n",
       "\n",
       "    .dataframe tbody tr th {\n",
       "        vertical-align: top;\n",
       "    }\n",
       "\n",
       "    .dataframe thead th {\n",
       "        text-align: right;\n",
       "    }\n",
       "</style>\n",
       "<table border=\"1\" class=\"dataframe\">\n",
       "  <thead>\n",
       "    <tr style=\"text-align: right;\">\n",
       "      <th></th>\n",
       "      <th>selected_text</th>\n",
       "      <th>sentiment</th>\n",
       "      <th>processed_text</th>\n",
       "    </tr>\n",
       "  </thead>\n",
       "  <tbody>\n",
       "    <tr>\n",
       "      <th>5456</th>\n",
       "      <td>stuvk with the wee stpid thing fo</td>\n",
       "      <td>negative</td>\n",
       "      <td>stuck wee stupid thing fo</td>\n",
       "    </tr>\n",
       "    <tr>\n",
       "      <th>19241</th>\n",
       "      <td>uni email is helpful..</td>\n",
       "      <td>positive</td>\n",
       "      <td>un email helpful</td>\n",
       "    </tr>\n",
       "    <tr>\n",
       "      <th>15754</th>\n",
       "      <td>awesome!</td>\n",
       "      <td>positive</td>\n",
       "      <td>awesome</td>\n",
       "    </tr>\n",
       "    <tr>\n",
       "      <th>19335</th>\n",
       "      <td>ut i aint that rich   just buy some more copie...</td>\n",
       "      <td>negative</td>\n",
       "      <td>ut be not rich buy copy herself</td>\n",
       "    </tr>\n",
       "    <tr>\n",
       "      <th>4329</th>\n",
       "      <td>e fantastic</td>\n",
       "      <td>positive</td>\n",
       "      <td>e fantastic</td>\n",
       "    </tr>\n",
       "    <tr>\n",
       "      <th>...</th>\n",
       "      <td>...</td>\n",
       "      <td>...</td>\n",
       "      <td>...</td>\n",
       "    </tr>\n",
       "    <tr>\n",
       "      <th>5749</th>\n",
       "      <td>loves</td>\n",
       "      <td>positive</td>\n",
       "      <td>love</td>\n",
       "    </tr>\n",
       "    <tr>\n",
       "      <th>7468</th>\n",
       "      <td>not looking too good</td>\n",
       "      <td>negative</td>\n",
       "      <td>look good</td>\n",
       "    </tr>\n",
       "    <tr>\n",
       "      <th>3300</th>\n",
       "      <td>lost</td>\n",
       "      <td>negative</td>\n",
       "      <td>lose</td>\n",
       "    </tr>\n",
       "    <tr>\n",
       "      <th>26202</th>\n",
       "      <td>who cares its hockey</td>\n",
       "      <td>negative</td>\n",
       "      <td>care hockey</td>\n",
       "    </tr>\n",
       "    <tr>\n",
       "      <th>12818</th>\n",
       "      <td>unfortunately.</td>\n",
       "      <td>negative</td>\n",
       "      <td>unfortunately</td>\n",
       "    </tr>\n",
       "  </tbody>\n",
       "</table>\n",
       "<p>842 rows × 3 columns</p>\n",
       "</div>"
      ],
      "text/plain": [
       "                                           selected_text sentiment  \\\n",
       "5456                   stuvk with the wee stpid thing fo  negative   \n",
       "19241                             uni email is helpful..  positive   \n",
       "15754                                           awesome!  positive   \n",
       "19335  ut i aint that rich   just buy some more copie...  negative   \n",
       "4329                                         e fantastic  positive   \n",
       "...                                                  ...       ...   \n",
       "5749                                               loves  positive   \n",
       "7468                                not looking too good  negative   \n",
       "3300                                                lost  negative   \n",
       "26202                               who cares its hockey  negative   \n",
       "12818                                     unfortunately.  negative   \n",
       "\n",
       "                        processed_text  \n",
       "5456         stuck wee stupid thing fo  \n",
       "19241                 un email helpful  \n",
       "15754                          awesome  \n",
       "19335  ut be not rich buy copy herself  \n",
       "4329                       e fantastic  \n",
       "...                                ...  \n",
       "5749                              love  \n",
       "7468                         look good  \n",
       "3300                              lose  \n",
       "26202                      care hockey  \n",
       "12818                    unfortunately  \n",
       "\n",
       "[842 rows x 3 columns]"
      ]
     },
     "execution_count": 50,
     "metadata": {},
     "output_type": "execute_result"
    }
   ],
   "source": [
    "df_base"
   ]
  },
  {
   "cell_type": "code",
   "execution_count": null,
   "metadata": {},
   "outputs": [],
   "source": [
    "X = df_base['processed_text']\n",
    "y = df_base['sentiment']\n",
    "corpus_train, corpus_test, y_train, y_test = train_test_split(X, y, test_size=0.2, random_state=7)\n",
    "\n",
    "vectorizer = TfidfVectorizer(min_df=1)\n",
    "X_train = vectorizer.fit_transform(\n",
    "    corpus_train\n",
    ").toarray() \n",
    "X_test = vectorizer.transform(corpus_test).toarray()"
   ]
  },
  {
   "cell_type": "code",
   "execution_count": 63,
   "metadata": {},
   "outputs": [
    {
     "data": {
      "text/plain": [
       "5456           stuck wee stupid thing fo\n",
       "19241                   un email helpful\n",
       "15754                            awesome\n",
       "19335    ut be not rich buy copy herself\n",
       "4329                         e fantastic\n",
       "                      ...               \n",
       "5749                                love\n",
       "7468                           look good\n",
       "3300                                lose\n",
       "26202                        care hockey\n",
       "12818                      unfortunately\n",
       "Name: processed_text, Length: 842, dtype: object"
      ]
     },
     "execution_count": 63,
     "metadata": {},
     "output_type": "execute_result"
    }
   ],
   "source": [
    "X"
   ]
  },
  {
   "cell_type": "code",
   "execution_count": 64,
   "metadata": {},
   "outputs": [
    {
     "name": "stdout",
     "output_type": "stream",
     "text": [
      "              precision    recall  f1-score   support\n",
      "\n",
      "    negative       0.96      0.62      0.76        77\n",
      "    positive       0.76      0.98      0.85        92\n",
      "\n",
      "    accuracy                           0.82       169\n",
      "   macro avg       0.86      0.80      0.80       169\n",
      "weighted avg       0.85      0.82      0.81       169\n",
      "\n"
     ]
    }
   ],
   "source": [
    "model = sklearn.linear_model.LogisticRegression(penalty=\"l2\", C=0.1)\n",
    "model.fit(X_train, y_train)\n",
    "print(classification_report(y_test, model.predict(X_test)))"
   ]
  },
  {
   "cell_type": "code",
   "execution_count": 65,
   "metadata": {},
   "outputs": [],
   "source": [
    "explainer = shap.Explainer(model, X_train, feature_names=vectorizer.get_feature_names_out())\n",
    "shap_values = explainer(X_test)"
   ]
  },
  {
   "cell_type": "code",
   "execution_count": 66,
   "metadata": {},
   "outputs": [
    {
     "data": {
      "image/png": "[encoded data removed]",
      "text/plain": [
       "<Figure size 800x550 with 2 Axes>"
      ]
     },
     "metadata": {},
     "output_type": "display_data"
    }
   ],
   "source": [
    "shap.plots.beeswarm(shap_values)"
   ]
  },
  {
   "cell_type": "code",
   "execution_count": 67,
   "metadata": {},
   "outputs": [],
   "source": [
    "sentence = \"stuck wee stupid thing fo\""
   ]
  },
  {
   "cell_type": "code",
   "execution_count": 68,
   "metadata": {},
   "outputs": [
    {
     "data": {
      "text/html": [
       "\n",
       "<div id='iXR7I2F0I2YA0AJ1UKCRH'>\n",
       "<div style='color: #900; text-align: center;'>\n",
       "  <b>Visualization omitted, Javascript library not loaded!</b><br>\n",
       "  Have you run `initjs()` in this notebook? If this notebook was from another\n",
       "  user you must also trust this notebook (File -> Trust notebook). If you are viewing\n",
       "  this notebook on github the Javascript has been stripped for security. If you are using\n",
       "  JupyterLab this error is because a JupyterLab extension has not yet been written.\n",
       "</div></div>\n",
       " <script>\n",
       "   if (window.SHAP) SHAP.ReactDom.render(\n",
       "    SHAP.React.createElement(SHAP.AdditiveForceVisualizer, {\"outNames\": [\"f(x)\"], \"baseValue\": 0.03641001314042126, \"outValue\": -0.06786808009370353, \"link\": \"identity\", \"featureNames\": [\"09\", \"100000000000000000000000000000000000\", \"2009\", \"33333\", \"accept\", \"act\", \"acting\", \"actor\", \"actually\", \"admit\", \"advice\", \"affair\", \"agaaaaaaiiiin\", \"ah\", \"ahahah\", \"ahahahahahahahaha\", \"ahhhhhh\", \"alas\", \"allmother\", \"almost\", \"already\", \"also\", \"always\", \"am\", \"amazing\", \"angela\", \"anna\", \"annoying\", \"answer\", \"anything\", \"anywhere\", \"apology\", \"appreciate\", \"arm\", \"as\", \"assignment\", \"at\", \"auction\", \"audit\", \"available\", \"avoid\", \"awake\", \"away\", \"awe\", \"awesome\", \"back\", \"bad\", \"badumtish\", \"bah\", \"bang\", \"barely\", \"base\", \"be\", \"beautiful\", \"bed\", \"began\", \"believe\", \"benefit\", \"big\", \"bill\", \"bipolar\", \"birthday\", \"bit\", \"bite\", \"blessing\", \"blipfm\", \"bloody\", \"bob\", \"bore\", \"bored\", \"boston\", \"bout\", \"boy\", \"break\", \"breaking\", \"breast\", \"brian\", \"brow\", \"burn\", \"bury\", \"bus\", \"business\", \"but\", \"buy\", \"buzz\", \"cab\", \"cable\", \"can\", \"cancel\", \"care\", \"career\", \"catch\", \"ch\", \"challenge\", \"charmingly\", \"check\", \"cheer\", \"cheering\", \"cheese\", \"chest\", \"churchsunday\", \"clean\", \"clergy\", \"climb\", \"cobblestones\", \"come\", \"comfort\", \"commentary\", \"completely\", \"complicate\", \"computer\", \"conan\", \"conflict\", \"confused\", \"congratulation\", \"contrat\", \"cool\", \"copy\", \"correct\", \"could\", \"cover\", \"crazy\", \"cross\", \"cry\", \"cut\", \"dad\", \"dark\", \"date\", \"day\", \"daytime\", \"dead\", \"decongestant\", \"deeply\", \"delicious\", \"depress\", \"deserve\", \"designer\", \"device\", \"diam\", \"die\", \"disappoint\", \"disappointing\", \"do\", \"doctor\", \"dog\", \"door\", \"drain\", \"dream\", \"dry\", \"early\", \"eat\", \"economic\", \"either\", \"else\", \"email\", \"en\", \"end\", \"enjoy\", \"enough\", \"ensure\", \"epic\", \"episode\", \"er\", \"error\", \"even\", \"everybody\", \"everyone\", \"everything\", \"exam\", \"excellent\", \"excite\", \"excited\", \"exciting\", \"expensive\", \"extra\", \"eye\", \"face\", \"fail\", \"fair\", \"fall\", \"family\", \"fan\", \"fancy\", \"fantastic\", \"far\", \"father\", \"favorite\", \"fed\", \"feel\", \"feeling\", \"finally\", \"find\", \"fine\", \"finger\", \"fire\", \"first\", \"flight\", \"fo\", \"focus\", \"follow\", \"food\", \"fool\", \"foolish\", \"force\", \"foreboding\", \"forever\", \"forward\", \"friction\", \"friday\", \"friend\", \"frustration\", \"fuck\", \"fun\", \"funniest\", \"funny\", \"gain\", \"get\", \"ginger\", \"girl\", \"give\", \"glad\", \"go\", \"god\", \"good\", \"goodness\", \"goodnight\", \"gooooood\", \"gorgeous\", \"great\", \"group\", \"grumble\", \"gurrrrrl\", \"gutter\", \"guy\", \"had\", \"hair\", \"hand\", \"handle\", \"happen\", \"happily\", \"happy\", \"harassed\", \"hard\", \"harvard\", \"hata\", \"hate\", \"have\", \"hawaii\", \"he\", \"head\", \"headache\", \"heap\", \"hear\", \"heart\", \"heartburn\", \"heaven\", \"help\", \"helpful\", \"herself\", \"hey\", \"his\", \"hockey\", \"hold\", \"home\", \"homesick\", \"hooooommmeeee\", \"hope\", \"hopefully\", \"horrible\", \"hospital\", \"hot\", \"hour\", \"house\", \"houston\", \"hug\", \"hungry\", \"hurrah\", \"hurt\", \"hyperventilate\", \"idiot\", \"ignore\", \"ill\", \"inconvenience\", \"instead\", \"intelligence\", \"interesting\", \"interview\", \"issue\", \"itchy\", \"jake\", \"job\", \"join\", \"juice\", \"keep\", \"kick\", \"kid\", \"kind\", \"know\", \"lame\", \"lameness\", \"large\", \"late\", \"lately\", \"later\", \"laugh\", \"lazy\", \"learn\", \"leave\", \"leg\", \"let\", \"library\", \"lie\", \"life\", \"like\", \"limp\", \"line\", \"link\", \"little\", \"live\", \"ll\", \"lo\", \"lonely\", \"look\", \"looking\", \"loooooooooong\", \"looooove\", \"los\", \"lose\", \"lot\", \"love\", \"loveeeeeeeeeeeeeeeeeeeeee\", \"lovely\", \"loving\", \"low\", \"luck\", \"lucky\", \"lui\", \"lurveeeeee\", \"ly\", \"mad\", \"madam\", \"major\", \"make\", \"malbrook\", \"male\", \"man\", \"many\", \"massive\", \"matter\", \"max\", \"may\", \"me\", \"mean\", \"mediation\", \"men\", \"mess\", \"message\", \"middle\", \"migrate\", \"mile\", \"million\", \"miss\", \"moment\", \"mon\", \"monday\", \"money\", \"month\", \"moore\", \"morning\", \"mother\", \"movie\", \"movingcariphone\", \"much\", \"muchbut\", \"mummy\", \"murder\", \"music\", \"musical\", \"my\", \"nail\", \"name\", \"neck\", \"need\", \"negative\", \"nervous\", \"never\", \"new\", \"news\", \"nice\", \"night\", \"nobody\", \"noisy\", \"nonsense\", \"noooooo\", \"not\", \"note\", \"nothing\", \"now\", \"ny\", \"of\", \"oh\", \"olive\", \"omgggg\", \"one\", \"online\", \"org\", \"organs\", \"original\", \"outside\", \"overcome\", \"overthought\", \"pack\", \"pain\", \"paranoif\", \"party\", \"pass\", \"passed\", \"pathetic\", \"pay\", \"peace\", \"peep\", \"penza\", \"people\", \"perfect\", \"personality\", \"petty\", \"phone\", \"photography\", \"pick\", \"picture\", \"pink\", \"place\", \"plan\", \"play\", \"playing\", \"please\", \"pleasure\", \"plug\", \"polish\", \"poor\", \"poorly\", \"porridge\", \"portfolio\", \"post\", \"praying\", \"presentation\", \"pretty\", \"priceless\", \"priority\", \"pro\", \"problem\", \"problematical\", \"program\", \"project\", \"prop\", \"proud\", \"proudly\", \"quit\", \"quite\", \"race\", \"radio\", \"rain\", \"rda2009cla\", \"real\", \"reality\", \"realize\", \"really\", \"reasonable\", \"recipe\", \"record\", \"red\", \"regret\", \"reject\", \"rejoice\", \"relax\", \"remember\", \"rent\", \"repent\", \"represent\", \"rest\", \"rich\", \"rid\", \"right\", \"rise\", \"road\", \"rock\", \"role\", \"roommate\", \"rrrr\", \"run\", \"sad\", \"sadly\", \"safe\", \"said\", \"sal\", \"sam\", \"sandwich\", \"scar\", \"scratch\", \"se\", \"see\", \"seem\", \"serious\", \"service\", \"shall\", \"shell\", \"shift\", \"shitload\", \"shocked\", \"shoe\", \"short\", \"shower\", \"shut\", \"sick\", \"sickness\", \"sidewalk\", \"single\", \"sleep\", \"slow\", \"smell\", \"smile\", \"snap\", \"snore\", \"somehow\", \"someone\", \"sometimes\", \"song\", \"soon\", \"sorry\", \"sound\", \"special\", \"speed\", \"splendid\", \"spoil\", \"square\", \"stand\", \"start\", \"station\", \"stick\", \"still\", \"stomach\", \"stop\", \"straight\", \"stripped\", \"stuck\", \"stupid\", \"style\", \"success\", \"such\", \"suck\", \"suckssss\", \"summer\", \"sun\", \"sunburnt\", \"sure\", \"swear\", \"sweet\", \"sweetietweethug\", \"take\", \"talent\", \"taste\", \"te\", \"th\", \"than\", \"thank\", \"thankful\", \"thankyou\", \"that\", \"the\", \"theatre\", \"them\", \"thick\", \"thing\", \"think\", \"this\", \"three\", \"throat\", \"ticket\", \"time\", \"tired\", \"to\", \"today\", \"tonight\", \"too\", \"top\", \"totally\", \"tough\", \"travel\", \"treasure\", \"trip\", \"trouble\", \"try\", \"tune\", \"turn\", \"tweetdeck\", \"twitter\", \"twitterbugsnothe\", \"ugh\", \"ugly\", \"un\", \"unbelievably\", \"uncomfortable\", \"underpaid\", \"unite\", \"unload\", \"up\", \"upset\", \"useless\", \"ut\", \"utf\", \"ve\", \"vote\", \"voting\", \"wait\", \"walktheyre\", \"want\", \"waste\", \"watch\", \"way\", \"we\", \"wee\", \"week\", \"weird\", \"welcome\", \"well\", \"wide\", \"will\", \"win\", \"wine\", \"wink\", \"winner\", \"wipe\", \"wish\", \"wit\", \"wolverine\", \"wonder\", \"wonderful\", \"work\", \"workdetail\", \"world\", \"worried\", \"worry\", \"worse\", \"worth\", \"would\", \"wrist\", \"write\", \"wrong\", \"www\", \"year\", \"yes\", \"yet\", \"you\", \"youmiss\", \"yourself\", \"yummmmy\"], \"features\": {\"0\": {\"effect\": 8.565831100008555e-05, \"value\": 0.0}, \"3\": {\"effect\": -0.00017727681184454702, \"value\": 0.0}, \"5\": {\"effect\": -0.00013839867780741954, \"value\": 0.0}, \"13\": {\"effect\": 0.0006903200253314474, \"value\": 0.0}, \"19\": {\"effect\": -0.00030782318808575117, \"value\": 0.0}, \"21\": {\"effect\": -8.986019580551275e-05, \"value\": 0.0}, \"24\": {\"effect\": -0.0014632210455089603, \"value\": 0.0}, \"25\": {\"effect\": -8.986019580551275e-05, \"value\": 0.0}, \"28\": {\"effect\": 0.0002815139906835707, \"value\": 0.0}, \"44\": {\"effect\": -0.0018127452945350506, \"value\": 0.0}, \"45\": {\"effect\": -0.00041666225738898707, \"value\": 0.0}, \"46\": {\"effect\": 0.005996975147035111, \"value\": 0.0}, \"63\": {\"effect\": 9.470411292274154e-05, \"value\": 0.0}, \"72\": {\"effect\": 0.0002757710307524408, \"value\": 0.0}, \"77\": {\"effect\": -5.162421737099194e-05, \"value\": 0.0}, \"87\": {\"effect\": 0.0002945273993762684, \"value\": 0.0}, \"91\": {\"effect\": 0.0004981538718627905, \"value\": 0.0}, \"92\": {\"effect\": 0.0004981538718627905, \"value\": 0.0}, \"100\": {\"effect\": 5.239191393369756e-05, \"value\": 0.0}, \"103\": {\"effect\": -0.00020647836744417387, \"value\": 0.0}, \"106\": {\"effect\": -0.00047738490381948103, \"value\": 0.0}, \"109\": {\"effect\": 0.0002791818315075402, \"value\": 0.0}, \"112\": {\"effect\": 5.239191393369756e-05, \"value\": 0.0}, \"122\": {\"effect\": 0.0002706509821792387, \"value\": 0.0}, \"123\": {\"effect\": 0.0012140570600258109, \"value\": 0.0}, \"124\": {\"effect\": -0.004353476597682916, \"value\": 0.0}, \"126\": {\"effect\": 0.0001321304741432888, \"value\": 0.0}, \"128\": {\"effect\": -0.0015639936764979326, \"value\": 0.0}, \"134\": {\"effect\": 0.00029923581581871626, \"value\": 0.0}, \"139\": {\"effect\": 0.0007866949703616932, \"value\": 0.0}, \"142\": {\"effect\": 0.00042165830977466777, \"value\": 0.0}, \"144\": {\"effect\": 0.00019358257078533773, \"value\": 0.0}, \"147\": {\"effect\": -3.5963175609486345e-05, \"value\": 0.0}, \"153\": {\"effect\": -3.4599669451854884e-05, \"value\": 0.0}, \"157\": {\"effect\": -0.0013480902437965697, \"value\": 0.0}, \"161\": {\"effect\": -0.00012864911958068235, \"value\": 0.0}, \"162\": {\"effect\": -0.00018050805382092852, \"value\": 0.0}, \"166\": {\"effect\": 2.416168731282041e-05, \"value\": 0.0}, \"173\": {\"effect\": 0.0004981538718627905, \"value\": 0.0}, \"175\": {\"effect\": 0.0005912132369148048, \"value\": 0.0}, \"176\": {\"effect\": 0.0001254478022357637, \"value\": 0.0}, \"183\": {\"effect\": -0.002176738298841458, \"value\": 0.0}, \"184\": {\"effect\": -5.21563480346173e-05, \"value\": 0.0}, \"185\": {\"effect\": -5.162421737099194e-05, \"value\": 0.0}, \"188\": {\"effect\": 0.0028519631401458844, \"value\": 0.0}, \"189\": {\"effect\": -0.00014161774525515435, \"value\": 0.0}, \"195\": {\"effect\": -0.00037484368933055024, \"value\": 0.0}, \"196\": {\"effect\": -0.00023869245190974052, \"value\": 0.0}, \"197\": {\"effect\": -0.010601687884678027, \"value\": 0.46847737696079683}, \"201\": {\"effect\": -0.00013839867780741954, \"value\": 0.0}, \"212\": {\"effect\": -0.0059578921163259396, \"value\": 0.0}, \"216\": {\"effect\": 0.0028433284569022188, \"value\": 0.0}, \"218\": {\"effect\": -0.00012864911958068235, \"value\": 0.0}, \"219\": {\"effect\": -0.0003842000840440928, \"value\": 0.0}, \"220\": {\"effect\": -0.0012100156928023921, \"value\": 0.0}, \"221\": {\"effect\": 0.0004497855426312362, \"value\": 0.0}, \"222\": {\"effect\": 5.239191393369756e-05, \"value\": 0.0}, \"223\": {\"effect\": -0.02071638869543299, \"value\": 0.0}, \"224\": {\"effect\": -0.00019531908700758018, \"value\": 0.0}, \"228\": {\"effect\": -0.00820273229548919, \"value\": 0.0}, \"232\": {\"effect\": 0.0007013622573669567, \"value\": 0.0}, \"240\": {\"effect\": -0.009177596971514655, \"value\": 0.0}, \"245\": {\"effect\": 0.010311379309590958, \"value\": 0.0}, \"246\": {\"effect\": 0.0005296647880783513, \"value\": 0.0}, \"250\": {\"effect\": 0.001714973453475034, \"value\": 0.0}, \"251\": {\"effect\": -0.00029326606697799025, \"value\": 0.0}, \"263\": {\"effect\": -0.00011126898389878914, \"value\": 0.0}, \"264\": {\"effect\": 0.0004981538718627905, \"value\": 0.0}, \"266\": {\"effect\": -0.0012921607516722773, \"value\": 0.0}, \"270\": {\"effect\": 0.0008001022608092099, \"value\": 0.0}, \"274\": {\"effect\": -0.0001314631798968537, \"value\": 0.0}, \"278\": {\"effect\": 0.0004981538718627905, \"value\": 0.0}, \"281\": {\"effect\": -0.0001314631798968537, \"value\": 0.0}, \"289\": {\"effect\": -0.00017596295070480396, \"value\": 0.0}, \"297\": {\"effect\": -0.00012777397743648377, \"value\": 0.0}, \"298\": {\"effect\": 0.0009726741557767965, \"value\": 0.0}, \"309\": {\"effect\": -0.00016026855368208795, \"value\": 0.0}, \"312\": {\"effect\": 0.00035538206340479466, \"value\": 0.0}, \"313\": {\"effect\": -0.0006101651254874646, \"value\": 0.0}, \"317\": {\"effect\": -1.7749655543570764e-05, \"value\": 0.0}, \"319\": {\"effect\": -0.0009539606354064656, \"value\": 0.0}, \"329\": {\"effect\": -0.0021354452200209413, \"value\": 0.0}, \"330\": {\"effect\": -0.00047738490381948103, \"value\": 0.0}, \"333\": {\"effect\": 0.0001225923428335461, \"value\": 0.0}, \"342\": {\"effect\": -1.0205395822336865e-05, \"value\": 0.0}, \"346\": {\"effect\": 0.0001762563152325897, \"value\": 0.0}, \"350\": {\"effect\": -0.005581224510279652, \"value\": 0.0}, \"351\": {\"effect\": 7.108697386978392e-05, \"value\": 0.0}, \"353\": {\"effect\": 8.565831100008555e-05, \"value\": 0.0}, \"358\": {\"effect\": 0.00028758259384928446, \"value\": 0.0}, \"361\": {\"effect\": 0.01206320996215137, \"value\": 0.0}, \"363\": {\"effect\": -0.00012120654636213592, \"value\": 0.0}, \"364\": {\"effect\": -8.622467195536524e-05, \"value\": 0.0}, \"367\": {\"effect\": -8.986019580551275e-05, \"value\": 0.0}, \"369\": {\"effect\": -0.0005382340361472979, \"value\": 0.0}, \"372\": {\"effect\": -0.0005420753926629667, \"value\": 0.0}, \"376\": {\"effect\": 2.642540720570537e-05, \"value\": 0.0}, \"379\": {\"effect\": 0.00015090225311814844, \"value\": 0.0}, \"387\": {\"effect\": 0.00027036062409847736, \"value\": 0.0}, \"388\": {\"effect\": -0.002179760441351356, \"value\": 0.0}, \"390\": {\"effect\": 0.0001225923428335461, \"value\": 0.0}, \"394\": {\"effect\": 0.0021444689563509005, \"value\": 0.0}, \"395\": {\"effect\": -0.0003549265044003354, \"value\": 0.0}, \"396\": {\"effect\": 0.0001321304741432888, \"value\": 0.0}, \"399\": {\"effect\": 0.00021131343791356248, \"value\": 0.0}, \"403\": {\"effect\": -0.00021212127824594282, \"value\": 0.0}, \"411\": {\"effect\": 0.0002905674920880703, \"value\": 0.0}, \"412\": {\"effect\": 0.0006434572978990394, \"value\": 0.0}, \"419\": {\"effect\": -5.162421737099194e-05, \"value\": 0.0}, \"421\": {\"effect\": -0.00012864911958068235, \"value\": 0.0}, \"423\": {\"effect\": -0.00011721805304640711, \"value\": 0.0}, \"426\": {\"effect\": 4.0619566758272995e-05, \"value\": 0.0}, \"439\": {\"effect\": 0.0008539348134423804, \"value\": 0.0}, \"440\": {\"effect\": 0.0004981538718627905, \"value\": 0.0}, \"447\": {\"effect\": -8.311983292264641e-05, \"value\": 0.0}, \"448\": {\"effect\": 0.0001225923428335461, \"value\": 0.0}, \"450\": {\"effect\": 0.00033089762246338273, \"value\": 0.0}, \"452\": {\"effect\": 8.565831100008555e-05, \"value\": 0.0}, \"455\": {\"effect\": -0.00047738490381948103, \"value\": 0.0}, \"456\": {\"effect\": -5.162421737099194e-05, \"value\": 0.0}, \"459\": {\"effect\": 5.239191393369756e-05, \"value\": 0.0}, \"466\": {\"effect\": 0.00021488031565723503, \"value\": 0.0}, \"472\": {\"effect\": 8.565831100008555e-05, \"value\": 0.0}, \"474\": {\"effect\": -0.00047738490381948103, \"value\": 0.0}, \"475\": {\"effect\": 1.14993613461663e-05, \"value\": 0.0}, \"477\": {\"effect\": 0.0004981538718627905, \"value\": 0.0}, \"478\": {\"effect\": -5.162421737099194e-05, \"value\": 0.0}, \"482\": {\"effect\": 7.740871272793239e-05, \"value\": 0.0}, \"488\": {\"effect\": 9.470411292274154e-05, \"value\": 0.0}, \"490\": {\"effect\": 0.004354826110692781, \"value\": 0.0}, \"492\": {\"effect\": -0.00023869245190974052, \"value\": 0.0}, \"500\": {\"effect\": 0.0004045418159272833, \"value\": 0.0}, \"518\": {\"effect\": 0.002372196102433632, \"value\": 0.0}, \"520\": {\"effect\": -0.0003346014477097811, \"value\": 0.0}, \"526\": {\"effect\": -0.0003223387669663438, \"value\": 0.0}, \"527\": {\"effect\": -0.00022983465567963008, \"value\": 0.0}, \"528\": {\"effect\": 0.016256172338807693, \"value\": 0.0}, \"529\": {\"effect\": -0.00026327959418196, \"value\": 0.0}, \"531\": {\"effect\": -8.311983292264641e-05, \"value\": 0.0}, \"538\": {\"effect\": 0.0034420993988641337, \"value\": 0.0}, \"539\": {\"effect\": 0.0008161273328507634, \"value\": 0.0}, \"541\": {\"effect\": 0.0002909632514811329, \"value\": 0.0}, \"544\": {\"effect\": -0.010601687884678027, \"value\": 0.46847737696079683}, \"545\": {\"effect\": -0.05282098544938539, \"value\": 0.40553657653570363}, \"549\": {\"effect\": 0.004667964603494129, \"value\": 0.0}, \"550\": {\"effect\": 8.565831100008555e-05, \"value\": 0.0}, \"556\": {\"effect\": -0.0019908987619440517, \"value\": 0.0}, \"558\": {\"effect\": 0.00033023387754841326, \"value\": 0.0}, \"559\": {\"effect\": -0.00047738490381948103, \"value\": 0.0}, \"562\": {\"effect\": 1.1979191983643357e-05, \"value\": 0.0}, \"563\": {\"effect\": -0.00047738490381948103, \"value\": 0.0}, \"564\": {\"effect\": -0.006644826341883846, \"value\": 0.0}, \"565\": {\"effect\": -0.00047738490381948103, \"value\": 0.0}, \"567\": {\"effect\": -0.00014703371171777215, \"value\": 0.0}, \"572\": {\"effect\": -0.025788754121637458, \"value\": 0.4208644994763704}, \"578\": {\"effect\": -0.0001874888518897178, \"value\": 0.0}, \"579\": {\"effect\": 0.009708507706541846, \"value\": 0.0}, \"580\": {\"effect\": 0.00017940320459497314, \"value\": 0.0}, \"583\": {\"effect\": 0.0004981538718627905, \"value\": 0.0}, \"589\": {\"effect\": -0.00026951347983377485, \"value\": 0.0}, \"597\": {\"effect\": 0.0006162377989071075, \"value\": 0.0}, \"598\": {\"effect\": 0.0004981538718627905, \"value\": 0.0}, \"606\": {\"effect\": 7.108697386978392e-05, \"value\": 0.0}, \"613\": {\"effect\": -0.00045693614108966677, \"value\": 0.0}, \"614\": {\"effect\": 7.108697386978392e-05, \"value\": 0.0}, \"615\": {\"effect\": -0.0003491587483547246, \"value\": 0.0}, \"616\": {\"effect\": 0.0004981538718627905, \"value\": 0.0}, \"617\": {\"effect\": -3.38249576018264e-05, \"value\": 0.0}, \"619\": {\"effect\": 0.0004359957139143803, \"value\": 0.0}, \"620\": {\"effect\": -0.010601687884678027, \"value\": 0.46847737696079683}, \"621\": {\"effect\": 1.1959016021112983e-05, \"value\": 0.0}, \"622\": {\"effect\": 0.0009726741557767965, \"value\": 0.0}, \"624\": {\"effect\": -0.00025385430248336634, \"value\": 0.0}, \"629\": {\"effect\": -0.0002642448657901788, \"value\": 0.0}, \"632\": {\"effect\": -0.003082339483898799, \"value\": 0.0}, \"637\": {\"effect\": -4.364512094108426e-05, \"value\": 0.0}, \"654\": {\"effect\": -3.4599669451854884e-05, \"value\": 0.0}}, \"plot_cmap\": \"RdBu\", \"labelMargin\": 20}),\n",
       "    document.getElementById('iXR7I2F0I2YA0AJ1UKCRH')\n",
       "  );\n",
       "</script>"
      ],
      "text/plain": [
       "<shap.plots._force.AdditiveForceVisualizer at 0x1fa1d3fd1d0>"
      ]
     },
     "execution_count": 68,
     "metadata": {},
     "output_type": "execute_result"
    }
   ],
   "source": [
    "sentence_vectorized = vectorizer.transform([sentence]).toarray()\n",
    "\n",
    "# Generar los valores SHAP para la oración\n",
    "shap_values = explainer(sentence_vectorized)\n",
    "\n",
    "# Visualizar la explicación con un gráfico de tipo fuerza (force plot)\n",
    "shap.plots.force(shap_values[0])"
   ]
  }
 ],
 "metadata": {
  "kernelspec": {
   "display_name": "Python 3",
   "language": "python",
   "name": "python3"
  },
  "language_info": {
   "codemirror_mode": {
    "name": "ipython",
    "version": 3
   },
   "file_extension": ".py",
   "mimetype": "text/x-python",
   "name": "python",
   "nbconvert_exporter": "python",
   "pygments_lexer": "ipython3",
   "version": "3.11.1"
  }
 },
 "nbformat": 4,
 "nbformat_minor": 2
}
