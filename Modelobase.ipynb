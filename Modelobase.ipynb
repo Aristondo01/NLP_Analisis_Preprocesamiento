{
 "cells": [
  {
   "cell_type": "code",
   "execution_count": 88,
   "metadata": {},
   "outputs": [],
   "source": [
    "import pandas as pd\n",
    "import nltk\n",
    "import string\n",
    "import spacy\n",
    "from nltk.corpus import stopwords\n",
    "from textblob import TextBlob\n",
    "import shap\n",
    "from sklearn.model_selection import train_test_split\n",
    "from sklearn.feature_extraction.text import TfidfVectorizer\n",
    "from sklearn.metrics import accuracy_score\n",
    "from sklearn.ensemble import RandomForestClassifier  # Puede ser cualquier clasificador\n",
    "from sklearn.model_selection import train_test_split\n",
    "from sklearn.preprocessing import LabelEncoder\n",
    "import numpy as np"
   ]
  },
  {
   "cell_type": "code",
   "execution_count": 79,
   "metadata": {},
   "outputs": [
    {
     "name": "stderr",
     "output_type": "stream",
     "text": [
      "[nltk_data] Downloading package stopwords to\n",
      "[nltk_data]     C:\\Users\\DELL\\AppData\\Roaming\\nltk_data...\n",
      "[nltk_data]   Package stopwords is already up-to-date!\n",
      "[nltk_data] Downloading package punkt to\n",
      "[nltk_data]     C:\\Users\\DELL\\AppData\\Roaming\\nltk_data...\n",
      "[nltk_data]   Package punkt is already up-to-date!\n"
     ]
    }
   ],
   "source": [
    "\n",
    "\n",
    "# Descargar recursos necesarios\n",
    "nltk.download('stopwords')\n",
    "nltk.download('punkt')\n",
    "nlp = spacy.load('en_core_web_sm')\n",
    "stop_words = set(stopwords.words('english'))\n",
    "\n",
    "# Cargar dataset\n",
    "# Aquí asumiré que tu dataset está en un archivo CSV llamado 'comments_dataset.csv' y que la columna de comentarios se llama 'comment'\n",
    "df_original = pd.read_csv('train.csv')\n",
    "df_original = df_original.drop(columns=['textID', 'text', 'Time of Tweet','Age of User','Country','Population -2020','Land Area (Km)','Density (P/Km)'])\n",
    "df_original = df_original[df_original['selected_text'].apply(lambda x: isinstance(x, str))]\n",
    "\n",
    "#Sample del 50% de los datos\n",
    "df_original = df_original.sample(frac=0.05, random_state=1)\n",
    "\n",
    "df_base = df_original.copy()\n",
    "\n",
    "\n"
   ]
  },
  {
   "cell_type": "code",
   "execution_count": 80,
   "metadata": {},
   "outputs": [
    {
     "data": {
      "text/html": [
       "<div>\n",
       "<style scoped>\n",
       "    .dataframe tbody tr th:only-of-type {\n",
       "        vertical-align: middle;\n",
       "    }\n",
       "\n",
       "    .dataframe tbody tr th {\n",
       "        vertical-align: top;\n",
       "    }\n",
       "\n",
       "    .dataframe thead th {\n",
       "        text-align: right;\n",
       "    }\n",
       "</style>\n",
       "<table border=\"1\" class=\"dataframe\">\n",
       "  <thead>\n",
       "    <tr style=\"text-align: right;\">\n",
       "      <th></th>\n",
       "      <th>selected_text</th>\n",
       "      <th>sentiment</th>\n",
       "    </tr>\n",
       "  </thead>\n",
       "  <tbody>\n",
       "    <tr>\n",
       "      <th>1638</th>\n",
       "      <td>smH daTs whacK</td>\n",
       "      <td>neutral</td>\n",
       "    </tr>\n",
       "    <tr>\n",
       "      <th>14748</th>\n",
       "      <td>oh dear, thats not good - I hope you get throu...</td>\n",
       "      <td>neutral</td>\n",
       "    </tr>\n",
       "    <tr>\n",
       "      <th>5456</th>\n",
       "      <td>stuvk with the wee stpid thing fo</td>\n",
       "      <td>negative</td>\n",
       "    </tr>\n",
       "    <tr>\n",
       "      <th>19241</th>\n",
       "      <td>uni email is helpful..</td>\n",
       "      <td>positive</td>\n",
       "    </tr>\n",
       "    <tr>\n",
       "      <th>4067</th>\n",
       "      <td>, Just read an article that buying IP`s doesn`...</td>\n",
       "      <td>neutral</td>\n",
       "    </tr>\n",
       "  </tbody>\n",
       "</table>\n",
       "</div>"
      ],
      "text/plain": [
       "                                           selected_text sentiment\n",
       "1638                                      smH daTs whacK   neutral\n",
       "14748  oh dear, thats not good - I hope you get throu...   neutral\n",
       "5456                   stuvk with the wee stpid thing fo  negative\n",
       "19241                             uni email is helpful..  positive\n",
       "4067   , Just read an article that buying IP`s doesn`...   neutral"
      ]
     },
     "execution_count": 80,
     "metadata": {},
     "output_type": "execute_result"
    }
   ],
   "source": [
    "df_base.head()"
   ]
  },
  {
   "cell_type": "code",
   "execution_count": 81,
   "metadata": {},
   "outputs": [],
   "source": [
    "def preprocess_text(text):\n",
    "    # 0. Eliminación de números\n",
    "    #text = re.sub(r'\\b\\d+(\\.\\d+)?\\b', '', text)\n",
    "    \n",
    "    # 1. Conversión a minúsculas\n",
    "    text = text.lower()\n",
    "    \n",
    "    # 2. Eliminación de puntuación\n",
    "    text = text.translate(str.maketrans('', '', string.punctuation))\n",
    "    \n",
    "    # 3. Eliminación de stop words\n",
    "    text = ' '.join([word for word in text.split() if word not in stop_words])\n",
    "    \n",
    "    # 4. Lematización\n",
    "    doc = nlp(text)\n",
    "    text = ' '.join([token.lemma_ for token in doc])\n",
    "    \n",
    "    # 5. Corrección ortográfica\n",
    "    text = str(TextBlob(text).correct())\n",
    "    \n",
    "    return text\n",
    "\n",
    "# Aplicar preprocesamiento\n",
    "df_base['processed_text'] = df_base['selected_text'].apply(preprocess_text)\n"
   ]
  },
  {
   "cell_type": "code",
   "execution_count": 85,
   "metadata": {},
   "outputs": [
    {
     "name": "stdout",
     "output_type": "stream",
     "text": [
      "Accuracy: 0.75\n"
     ]
    }
   ],
   "source": [
    "\n",
    "\n",
    "# Vectorización de texto\n",
    "vectorizer = TfidfVectorizer()\n",
    "X = vectorizer.fit_transform(df_base['processed_text'])\n",
    "y = df_base['sentiment']\n",
    "\n",
    "# sentiments = df_base['sentiment'].unique()\n",
    "# # Inicializa el codificador\n",
    "# label_encoder = LabelEncoder()\n",
    "# # Convierte las etiquetas de texto en números\n",
    "# y = label_encoder.fit_transform(sentiments)\n",
    "\n",
    "\n",
    "# Dividir en entrenamiento y prueba\n",
    "X_train, X_test, y_train, y_test = train_test_split(X, y, test_size=0.2, random_state=42)\n",
    "\n",
    "# Entrenar el modelo\n",
    "model = RandomForestClassifier()\n",
    "model.fit(X_train, y_train)\n",
    "\n",
    "# Evaluar el modelo\n",
    "y_pred = model.predict(X_test)\n",
    "accuracy = accuracy_score(y_test, y_pred)\n",
    "print(f'Accuracy: {accuracy:.2f}')\n"
   ]
  },
  {
   "cell_type": "code",
   "execution_count": 93,
   "metadata": {},
   "outputs": [
    {
     "name": "stderr",
     "output_type": "stream",
     "text": [
      " 98%|===================| 809/825 [00:50<00:00]        C:\\Users\\DELL\\AppData\\Local\\Packages\\PythonSoftwareFoundation.Python.3.11_qbz5n2kfra8p0\\LocalCache\\local-packages\\Python311\\site-packages\\shap\\plots\\_beeswarm.py:950: UserWarning: The figure layout has changed to tight\n",
      "  pl.tight_layout()\n",
      "C:\\Users\\DELL\\AppData\\Local\\Packages\\PythonSoftwareFoundation.Python.3.11_qbz5n2kfra8p0\\LocalCache\\local-packages\\Python311\\site-packages\\shap\\plots\\_beeswarm.py:624: UserWarning: The figure layout has changed to tight\n",
      "  pl.tight_layout(pad=0, w_pad=0, h_pad=0.0)\n"
     ]
    },
    {
     "data": {
      "image/png": "[encoded data removed]",
      "text/plain": [
       "<Figure size 1150x660 with 3 Axes>"
      ]
     },
     "metadata": {},
     "output_type": "display_data"
    }
   ],
   "source": [
    "# Convertir la matriz dispersa a una densa\n",
    "X_train_dense = X_train.toarray()\n",
    "\n",
    "# Crear el explicador de SHAP\n",
    "explainer = shap.Explainer(model, X_train_dense)\n",
    "\n",
    "# Obtener los valores SHAP para el conjunto de prueba\n",
    "shap_values = explainer(X_test.toarray())  # Asegúrate de convertir X_test también si es una matriz dispersa\n",
    "\n",
    "# Visualización de las explicaciones\n",
    "shap.summary_plot(shap_values, X_test.toarray(), feature_names=vectorizer.get_feature_names_out())"
   ]
  }
 ],
 "metadata": {
  "kernelspec": {
   "display_name": "Python 3",
   "language": "python",
   "name": "python3"
  },
  "language_info": {
   "codemirror_mode": {
    "name": "ipython",
    "version": 3
   },
   "file_extension": ".py",
   "mimetype": "text/x-python",
   "name": "python",
   "nbconvert_exporter": "python",
   "pygments_lexer": "ipython3",
   "version": "3.11.9"
  }
 },
 "nbformat": 4,
 "nbformat_minor": 2
}
